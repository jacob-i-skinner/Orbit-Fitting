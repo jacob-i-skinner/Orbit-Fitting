{
 "cells": [
  {
   "cell_type": "code",
   "execution_count": 12,
   "metadata": {
    "collapsed": false,
    "scrolled": true
   },
   "outputs": [],
   "source": [
    "import os\n",
    "import numpy as np\n",
    "from matplotlib import pyplot as plt\n",
    "%matplotlib inline\n",
    "\n",
    "table = open('Mass Ratios.tbl', 'a+')\n",
    "print('Mass Ratios:', file = table)\n",
    "\n",
    "for i in range(0,len(os.listdir())-1):\n",
    "    if '.tbl' in os.listdir()[i]:\n",
    "        system = np.genfromtxt(os.listdir()[i], skip_header=1, usecols=(0, 1, 2))\n",
    "        RVp =[datum[1] for datum in system if not np.isnan(datum[1]+datum[2])]\n",
    "        RVs =[datum[2] for datum in system if not np.isnan(datum[1]+datum[2])]\n",
    "        m,b = np.polyfit(RVs, RVp, 1)\n",
    "        #plt.plot(RVs, RVp, 'r.')\n",
    "        #plt.plot(np.linspace(-80,60, num=10), np.linspace(-80,60, num=10)*m+b)\n",
    "        print(os.listdir()[i],':', -m, file=table)        \n",
    "#TO-DO: uncertainties"
   ]
  },
  {
   "cell_type": "code",
   "execution_count": null,
   "metadata": {
    "collapsed": true
   },
   "outputs": [],
   "source": []
  }
 ],
 "metadata": {
  "kernelspec": {
   "display_name": "Python 3",
   "language": "python",
   "name": "python3"
  },
  "language_info": {
   "codemirror_mode": {
    "name": "ipython",
    "version": 3
   },
   "file_extension": ".py",
   "mimetype": "text/x-python",
   "name": "python",
   "nbconvert_exporter": "python",
   "pygments_lexer": "ipython3",
   "version": "3.5.1"
  }
 },
 "nbformat": 4,
 "nbformat_minor": 0
}
