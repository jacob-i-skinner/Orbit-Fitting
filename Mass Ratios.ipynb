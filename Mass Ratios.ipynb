{
 "cells": [
  {
   "cell_type": "code",
   "execution_count": 6,
   "metadata": {
    "collapsed": false
   },
   "outputs": [],
   "source": [
    "#import necessary libraries\n",
    "import numpy as np\n",
    "from matplotlib import pyplot as plt\n",
    "%matplotlib inline"
   ]
  },
  {
   "cell_type": "code",
   "execution_count": 13,
   "metadata": {
    "collapsed": false
   },
   "outputs": [],
   "source": [
    "#instatiate data variables for RVs\n",
    "\n",
    "V1481A = np.array([24.36, -17.04, 13.26, 59.44, 45.43, -8.61, -9.37, 20.98, 63.91, -2.29, 55.55])\n",
    "V1481B = np.array([24.36, 96.34, 45.27, -43.73, -24.96, 78.60, 82.46, 20.98, -50.16, 70.06, -37.94])\n",
    "JD     = np.array([2453658.8320, 2453659.8226, 2453660.8243, 2453661.8003, 2453662.8240, 2453663.8200,\n",
    "                   2453664.7964, 2453678.7838, 2453679.7282, 2453753.6614, 2453755.6823])\n",
    "\n",
    "DQTau1 = np.array([34.76, -2.93, 37.11, 37.38, 34.73, 31.64, 26.07, 23.51, 20.10, 17.31, 27.28, 36.99, 33.17,\n",
    "                   35.11, 35.24, 28.81, 12.43, 40.09, 35.14, 35.89, 19.12, 37.08, 36.83, 12.75, -6.27, 14.82,\n",
    "                   34.84,  3.16, 32.37, 39.09, 17.46, 22.67, 31.34])\n",
    "DQTau2 = np.array([12.44, 56.13, 13.90, 15.01, 17.06, 20.70, 24.40, 27.30, 25.73, 27.86, 23.67, 7.64, 10.94,\n",
    "                   09.87, 10.05, 19.93, 33.26, 13.83, 11.47, 16.98, 26.86, 10.20, 14.36, 23.86, 50.94, 37.61,\n",
    "                   07.51, 52.75, 17.20, 08.27, 34.61, 26.25, 11.49])\n",
    "HJD    = np.array([45982.0293, 46389.8446, 46745.8122, 47073.9364, 47075.9910, 47078.0084, 47127.8232, 47128.8081,\n",
    "                   47159.6132, 47159.6318, 47427.9265, 47546.6122, 47546.6272, 47546.6272, 47546.6423, 47789.9412,\n",
    "                   47840.8048, 47845.8709, 47896.7312, 47898.7686, 47902.6961, 48525.9580, 48670.6445, 48871.9572,\n",
    "                   49344.8584, 49373.6908, 49410.6311, 49644.8270, 49699.8045, 53693.8806, 56578.9704, 56606.9106,\n",
    "                   56650.8257])"
   ]
  },
  {
   "cell_type": "code",
   "execution_count": 78,
   "metadata": {
    "collapsed": false
   },
   "outputs": [
    {
     "name": "stdout",
     "output_type": "stream",
     "text": [
      "Systemic velocities for V1481 and DQTau are  23.0409090909  km/s, and 24.1692424242  km/s, respectively\n"
     ]
    }
   ],
   "source": [
    "#determine systemic velocites of each system via average\n",
    "\n",
    "gammaV1481 = (np.sum(V1481A)+np.sum(V1481B))/(V1481A.size+V1481B.size)\n",
    "\n",
    "gammaTau = (np.sum(DQTau1)+np.sum(DQTau2))/(DQTau1.size+DQTau2.size)\n",
    "\n",
    "print('Systemic velocities for V1481 and DQTau are ', gammaV1481, ' km/s, and' , gammaTau, ' km/s, respectively')"
   ]
  },
  {
   "cell_type": "markdown",
   "metadata": {},
   "source": [
    "The above implementation has issues, but the results are close."
   ]
  },
  {
   "cell_type": "code",
   "execution_count": 129,
   "metadata": {
    "collapsed": false
   },
   "outputs": [
    {
     "name": "stdout",
     "output_type": "stream",
     "text": [
      "MA =  1.89726157951 *MB\n",
      "M1 =  0.388546757003 *M2\n"
     ]
    }
   ],
   "source": [
    "#adjust RVs, calculate average of first adjusted RV divided by second, over every visit\n",
    "#due to the inverse relationship between velocity ratios and mass ratios, the mass ratio is the inverse of the average\n",
    "#velocity ratio\n",
    "\n",
    "V1481vRatio = (np.absolute(V1481A-gammaV1481)/np.absolute(V1481B-gammaV1481))\n",
    "\n",
    "adjustedvRatio = [datum for datum in V1481vRatio if datum != 1] # removes instances for whih the ratio = 1\n",
    "adjustedvRatio = np.array(adjustedvRatio)\n",
    "\n",
    "print('MA = ', adjustedvRatio.size/np.sum(adjustedvRatio), '*MB')\n",
    "\n",
    "adjustedvRatio = np.zeros(1)\n",
    "\n",
    "DQTauvRatio = (np.absolute(DQTau1-gammaTau)/np.absolute(DQTau2-gammaTau))\n",
    "\n",
    "adjustedvRatio = [datum for datum in DQTauvRatio if datum != 1] # removes instances for whih the ratio = 1\n",
    "adjustedvRatio = np.array(adjustedvRatio)\n",
    "\n",
    "print('M1 = ', adjustedvRatio.size/np.sum(adjustedvRatio), '*M2')"
   ]
  },
  {
   "cell_type": "markdown",
   "metadata": {},
   "source": [
    "Something the above results are close for the first system, quite off for the second."
   ]
  },
  {
   "cell_type": "code",
   "execution_count": null,
   "metadata": {
    "collapsed": true
   },
   "outputs": [],
   "source": []
  }
 ],
 "metadata": {
  "kernelspec": {
   "display_name": "Python 3",
   "language": "python",
   "name": "python3"
  },
  "language_info": {
   "codemirror_mode": {
    "name": "ipython",
    "version": 3
   },
   "file_extension": ".py",
   "mimetype": "text/x-python",
   "name": "python",
   "nbconvert_exporter": "python",
   "pygments_lexer": "ipython3",
   "version": "3.5.1"
  }
 },
 "nbformat": 4,
 "nbformat_minor": 0
}
