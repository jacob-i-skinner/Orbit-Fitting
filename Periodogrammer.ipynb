{
 "cells": [
  {
   "cell_type": "code",
   "execution_count": 4,
   "metadata": {
    "collapsed": false,
    "scrolled": true
   },
   "outputs": [],
   "source": [
    "import numpy as np\n",
    "import matplotlib\n",
    "from matplotlib import pyplot as plt\n",
    "from scipy.signal import lombscargle\n",
    "%matplotlib inline\n",
    "\n",
    "V1481A = np.array([24.36, -17.04, 13.26, 59.44, 45.43, -8.61, -9.37, 20.98, 63.91, -2.29, 55.55])\n",
    "V1481B = np.array([96.34, 45.27, -43.73, -24.96, 78.60, 82.46, -50.16, 70.06, -37.94])\n",
    "JD     = np.array([2453658.8320, 2453659.8226, 2453660.8243, 2453661.8003, 2453662.8240, 2453663.8200,\n",
    "                   2453664.7964, 2453678.7838, 2453679.7282, 2453753.6614, 2453755.6823])\n",
    "JDB    = np.array([2453659.8226, 2453660.8243, 2453661.8003, 2453662.8240, 2453663.8200,\n",
    "                   2453664.7964, 2453679.7282, 2453753.6614, 2453755.6823])\n",
    "\n",
    "DQTau1 = np.array([34.76, -2.93, 37.11, 37.38, 34.73, 31.64, 26.07, 23.51, 20.10, 17.31, 27.28, 36.99, 33.17,\n",
    "                   35.11, 35.24, 28.81, 12.43, 40.09, 35.14, 35.89, 19.12, 37.08, 36.83, 12.75, -6.27, 14.82,\n",
    "                   34.84,  3.16, 32.37, 39.09, 17.46, 22.67, 31.34])\n",
    "DQTau2 = np.array([12.44, 56.13, 13.90, 15.01, 17.06, 20.70, 24.40, 27.30, 25.73, 27.86, 23.67, 7.64, 10.94,\n",
    "                   09.87, 10.05, 19.93, 33.26, 13.83, 11.47, 16.98, 26.86, 10.20, 14.36, 23.86, 50.94, 37.61,\n",
    "                   07.51, 52.75, 17.20, 08.27, 34.61, 26.25, 11.49])\n",
    "HJD    = np.array([45982.0293, 46389.8446, 46745.8122, 47073.9364, 47075.9910, 47078.0084, 47127.8232, 47128.8081,\n",
    "                   47159.6132, 47159.6318, 47427.9265, 47546.6122, 47546.6272, 47546.6272, 47546.6423, 47789.9412,\n",
    "                   47840.8048, 47845.8709, 47896.7312, 47898.7686, 47902.6961, 48525.9580, 48670.6445, 48871.9572,\n",
    "                   49344.8584, 49373.6908, 49410.6311, 49644.8270, 49699.8045, 53693.8806, 56578.9704, 56606.9106,\n",
    "                   56650.8257])\n",
    "#phase  = np.array([0.1435, 0.9520, 0.4794, 0.2446, 0.3747, 0.5023, 0.6549, 0.7172, 0.6667, 0.6679, 0.6468, 0.1579,\n",
    "#                   0.1588, 0.1588, 0.1598, 0.5569, 0.7758, 0.0964, 0.3151, 0.4440, 0.6926, 0.1356, 0.2920, 0.0321,\n",
    "#                   0.9596, 0.7842, 0.1220, 0.9430, 0.4223, 0.1867, 0.7691, 0.5373, 0.3164])\n",
    "# These phases are those calculated by Czekala, et al."
   ]
  },
  {
   "cell_type": "code",
   "execution_count": 5,
   "metadata": {
    "collapsed": true
   },
   "outputs": [],
   "source": [
    "#This periodogram code was taken from\n",
    "#Jake Vanderplas' \"Fast Lomb-Scargle Periodograms in Python\"\n",
    "#modified by myself into a function\n",
    "\n",
    "def periodogram(t, rv, f):\n",
    "    \n",
    "    delta_t = np.inf \n",
    "    for i in range(0, len(t)-2):\n",
    "        if t[i+1]-t[i] < delta_t and t[i+1]-t[i] != 0:\n",
    "            delta_t = t[i+1]-t[i]\n",
    "    periods = np.linspace(2*delta_t, 20, num = f)\n",
    "\n",
    "    # convert period range into frequency range\n",
    "    ang_freqs = 2 * np.pi / periods\n",
    "\n",
    "    # compute the (unnormalized) periodogram\n",
    "    # note pre-centering of y values!\n",
    "    powers = lombscargle(t, rv - rv.mean(), ang_freqs)\n",
    "\n",
    "    # normalize the power\n",
    "    N = len(t)\n",
    "    powers *= 2 / (N * rv.std() ** 2)\n",
    "    \n",
    "    return periods, powers"
   ]
  },
  {
   "cell_type": "code",
   "execution_count": 10,
   "metadata": {
    "collapsed": false
   },
   "outputs": [
    {
     "data": {
      "image/png": "[encoded data removed]",
      "text/plain": [
       "<matplotlib.figure.Figure at 0x10d180128>"
      ]
     },
     "metadata": {},
     "output_type": "display_data"
    },
    {
     "data": {
      "text/plain": [
       "<matplotlib.figure.Figure at 0x10d180710>"
      ]
     },
     "metadata": {},
     "output_type": "display_data"
    }
   ],
   "source": [
    "# plot the results\n",
    "samples = 60000\n",
    "x, y1 = periodogram(HJD, DQTau1, samples)\n",
    "\n",
    "fig, ax = plt.subplots()\n",
    "plt.figure(figsize=(5,10))\n",
    "#ax.plot(x, y1, 'b')\n",
    "x, y2 = periodogram(HJD, DQTau2, samples)\n",
    "#ax.plot(x, y2, 'r')\n",
    "ax.plot(x, y1*y2, 'k')\n",
    "ax.set(ylim=(0, 1), xlabel='period (days)', ylabel='Lomb-Scargle Power');\n",
    "plt.savefig('DQTau1 periodogram.png')"
   ]
  },
  {
   "cell_type": "code",
   "execution_count": null,
   "metadata": {
    "collapsed": true
   },
   "outputs": [],
   "source": []
  }
 ],
 "metadata": {
  "kernelspec": {
   "display_name": "Python 3",
   "language": "python",
   "name": "python3"
  },
  "language_info": {
   "codemirror_mode": {
    "name": "ipython",
    "version": 3
   },
   "file_extension": ".py",
   "mimetype": "text/x-python",
   "name": "python",
   "nbconvert_exporter": "python",
   "pygments_lexer": "ipython3",
   "version": "3.5.1"
  }
 },
 "nbformat": 4,
 "nbformat_minor": 0
}
