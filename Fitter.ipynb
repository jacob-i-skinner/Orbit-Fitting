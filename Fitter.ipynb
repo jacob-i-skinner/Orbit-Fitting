{
 "cells": [
  {
   "cell_type": "markdown",
   "metadata": {},
   "source": [
    "Below I start work on an emcee algorithm for finding the orbital parameters, starting with a best estimate of the period"
   ]
  },
  {
   "cell_type": "code",
   "execution_count": 1,
   "metadata": {
    "collapsed": true
   },
   "outputs": [],
   "source": [
    "import numpy as np\n",
    "from matplotlib import pyplot as plt\n",
    "%matplotlib inline\n",
    "\n",
    "V1481A = np.array([24.36, -17.04, 13.26, 59.44, 45.43, -8.61, -9.37, 20.98, 63.91, -2.29, 55.55])\n",
    "Aerror = np.array([1.25, 1.04, 1.03, 1.03, 1.02, 1.17, 1.04, 1.25, 1.09, 1.10, 1.14])\n",
    "V1481B = np.array([96.34, 45.27, -43.73, -24.96, 78.60, 82.46, -50.16, 70.06, -37.94])\n",
    "Berror = np.array([0.83, 0.82, 0.82, 0.81, 0.94, 0.83, 0.88, 0.88, 0.91])\n",
    "JD     = np.array([2453658.8320, 2453659.8226, 2453660.8243, 2453661.8003, 2453662.8240, 2453663.8200,\n",
    "                   2453664.7964, 2453678.7838, 2453679.7282, 2453753.6614, 2453755.6823])\n",
    "JDB    = np.array([2453659.8226, 2453660.8243, 2453661.8003, 2453662.8240, 2453663.8200,\n",
    "                   2453664.7964, 2453679.7282, 2453753.6614, 2453755.6823])\n",
    "\n",
    "DQTau1 = np.array([34.76, -2.93, 37.11, 37.38, 34.73, 31.64, 26.07, 23.51, 20.10, 17.31, 27.28, 36.99, 33.17,\n",
    "                   35.11, 35.24, 28.81, 12.43, 40.09, 35.14, 35.89, 19.12, 37.08, 36.83, 12.75, -6.27, 14.82,\n",
    "                   34.84,  3.16, 32.37, 39.09, 17.46, 22.67, 31.34])\n",
    "oneError = np.array([3.93, 3.61, 7.72, 3.56, 3.35, 3.23, 4.56, 5.11, 4.96, 4.46, 3.19, 5.66, 5.28, 3.15, 6.15,\n",
    "                     2.92, 3.01, 2.92, 3.12, 3.31, 3.35, 3.27, 3.41, 3.41, 4.17, 4.56, 4.56, 3.08, 3.08, 4.82,\n",
    "                     3.95, 3.95, 3.95])\n",
    "DQTau2 = np.array([12.44, 56.13, 13.90, 15.01, 17.06, 20.70, 24.40, 27.30, 25.73, 27.86, 23.67, 7.64, 10.94,\n",
    "                   09.87, 10.05, 19.93, 33.26, 13.83, 11.47, 16.98, 26.86, 10.20, 14.36, 23.86, 50.94, 37.61,\n",
    "                   07.51, 52.75, 17.20, 08.27, 34.61, 26.25, 11.49])\n",
    "twoError = np.array([2.53, 2.32, 4.97, 2.29, 2.16, 2.08, 2.94, 3.29, 3.19, 2.87, 2.06, 3.64, 3.40, 2.02, 3.96,\n",
    "                     1.88, 1.94, 1.88, 2.00, 2.13, 2.16, 2.10, 2.19, 2.19, 2.69, 2.94, 2.94, 1.98, 1.98, 3.10,\n",
    "                     3.41, 3.41, 3.41])\n",
    "HJD    = np.array([45982.0293, 46389.8446, 46745.8122, 47073.9364, 47075.9910, 47078.0084, 47127.8232, 47128.8081,\n",
    "                   47159.6132, 47159.6318, 47427.9265, 47546.6122, 47546.6272, 47546.6272, 47546.6423, 47789.9412,\n",
    "                   47840.8048, 47845.8709, 47896.7312, 47898.7686, 47902.6961, 48525.9580, 48670.6445, 48871.9572,\n",
    "                   49344.8584, 49373.6908, 49410.6311, 49644.8270, 49699.8045, 53693.8806, 56578.9704, 56606.9106,\n",
    "                   56650.8257])\n",
    "#phase  = np.array([0.1435, 0.9520, 0.4794, 0.2446, 0.3747, 0.5023, 0.6549, 0.7172, 0.6667, 0.6679, 0.6468, 0.1579,\n",
    "#                   0.1588, 0.1588, 0.1598, 0.5569, 0.7758, 0.0964, 0.3151, 0.4440, 0.6926, 0.1356, 0.2920, 0.0321,\n",
    "#                   0.9596, 0.7842, 0.1220, 0.9430, 0.4223, 0.1867, 0.7691, 0.5373, 0.3164])\n",
    "# These phases are those calculated by Czekala, et al."
   ]
  },
  {
   "cell_type": "markdown",
   "metadata": {},
   "source": [
    "Need to define possible ranges for the parameters.\n",
    "\n",
    "0 <= e < 1\n",
    "\n",
    "0 <= $\\omega$ < 2$\\pi$\n",
    "\n",
    "0 <= T < P\n",
    "\n",
    "smallest RV <= $\\gamma$ <= largest RV\n",
    "\n",
    "0 <= K1 <= largest RV\n",
    "\n",
    "-largest RV <= K2 <= 0"
   ]
  },
  {
   "cell_type": "code",
   "execution_count": 26,
   "metadata": {
    "collapsed": false
   },
   "outputs": [],
   "source": [
    "#These parameters are shared by the entire system, DQTau determined by Czekala, et. al.\n",
    "\n",
    "P = 15.80158 #period in days determined first via periodogram\n",
    "#T = 47433.507 #Time offset in days, boils down to a horizontal shift in RV. T is the 'zero' point\n",
    "#e = 0.568 #eccentricity (unitless)\n",
    "#w = 4.047 #longitude of periastron in radians\n",
    "#y = 24.52 #systemic velocity in km/s\n",
    "t = np.linspace(0, P, num = 1000)\n",
    "\n",
    "#these parameters are star specific\n",
    "#K1= 20.28 #semamplitude in km/s\n",
    "#K2= -21.66\n",
    "\n",
    "def phases(T, times): #function converts time measurements in time into measurements in orbital phase from 0-1\n",
    "    timePhases = np.zeros(times.size) #function is only useful after T and P have been determined\n",
    "    for i in range(0, times.size):\n",
    "        timePhases[i] = ((times[i])-T)/P-int(((times[i])-T)/P)\n",
    "        if timePhases[i] < 0:\n",
    "            timePhases[i] = timePhases[i]+1\n",
    "    return timePhases\n",
    "\n",
    "def rv(K, P, T, e, w, y, t): #function generates RV values plot from given parameters\n",
    "    # t is some value of time, ultimately the independent variable, can bea single value or an array\n",
    "    M = (2*np.pi/P)*(t) #Mean Anomaly is a function of time\n",
    "    E1 = M + e*np.sin(M) + ((e**2)*np.sin(2*M)/2) #Eccentric Anomaly is a function of Mean Anomaly\n",
    "    while True: \n",
    "        E0 = E1\n",
    "        M0 = E0 - e*np.sin(E0)\n",
    "        E1 = E0 +(M-M0)/(1-e*np.cos(E0))\n",
    "        if np.amax(E1-E0) < 1E-9:\n",
    "            break\n",
    "    nu = 2*np.arctan(np.sqrt((1 + e)/(1 - e))*np.tan(E1/2)) #True Anomaly is a function of Eccentric anomaly\n",
    "    rv = K*(np.cos(nu+w) + (e*np.cos(w)))+y\n",
    "    return rv\n",
    "\n",
    "def RSquared(data1, data2, fit1, fit2): #returns r squared when given an array of observed and expected values\n",
    "    def average(data):\n",
    "        return sum(data)/data.size\n",
    "    R2 = 1-(sum((data1-fit1)**2)+sum((data2-fit2)**2))/(sum((data1-average(data1))**2)+sum(data2-average(data2))**2)\n",
    "    return R2\n",
    "#The calculation in this function has extra sum calls to prevent dimension\n",
    "#mismatch errors between the RV data from a system"
   ]
  },
  {
   "cell_type": "code",
   "execution_count": 49,
   "metadata": {
    "collapsed": false,
    "scrolled": false
   },
   "outputs": [
    {
     "name": "stdout",
     "output_type": "stream",
     "text": [
      "[  0.61591956  27.76103103 -28.37896897  11.83141325   0.712        3.60958395\n",
      "  24.02429429]\n"
     ]
    },
    {
     "data": {
      "text/plain": [
       "(0, 15.80158)"
      ]
     },
     "execution_count": 49,
     "metadata": {},
     "output_type": "execute_result"
    },
    {
     "data": {
      "image/png": "[encoded data removed]",
      "text/plain": [
       "<matplotlib.figure.Figure at 0x11d277f60>"
      ]
     },
     "metadata": {},
     "output_type": "display_data"
    }
   ],
   "source": [
    "#I'm trying my own implementation\n",
    "K1_samples= np.linspace(0.01, np.amax(np.append(DQTau1, DQTau2)), num = 1000)\n",
    "K2_samples= np.linspace(-np.amax(np.append(DQTau1, DQTau2)), -0.01, num = 1000)\n",
    "T_samples = np.linspace(0, P, num = 1000)\n",
    "e_samples = np.linspace(0, 0.999, num = 1000)\n",
    "w_samples = np.linspace(0, 2*np.pi-0.001, num = 1000)\n",
    "y_samples = np.linspace(np.amin(np.append(DQTau1, DQTau2)), np.amax(np.append(DQTau1, DQTau2)), num = 1000)\n",
    "iterations = 100000\n",
    "r_squared = np.empty(iterations)\n",
    "\n",
    "results = np.empty((iterations, 7))\n",
    "\n",
    "for i in range(0,iterations):\n",
    "    randos = np.random.randint(0,1000, 6)\n",
    "    results[i,0] = RSquared(DQTau1, DQTau2, rv(K1_samples[randos[0]], P, T_samples[randos[2]], e_samples[randos[3]], w_samples[randos[4]], y_samples[randos[5]], phases(T_samples[randos[2]], HJD)*P), rv(K2_samples[randos[0]], P, T_samples[randos[2]], e_samples[randos[3]], w_samples[randos[4]], y_samples[randos[5]], phases(T_samples[randos[2]], HJD)*P))\n",
    "    r_squared[i] = results[i,0]\n",
    "    results[i,1] = K1_samples[randos[0]]\n",
    "    results[i,2] = K2_samples[randos[0]]\n",
    "    results[i,3] = T_samples[randos[2]]\n",
    "    results[i,4] = e_samples[randos[3]]\n",
    "    results[i,5] = w_samples[randos[4]]\n",
    "    results[i,6] = y_samples[randos[5]]\n",
    "    \n",
    "#the loop above is governed only by randomness\n",
    "    \n",
    "#print(results)\n",
    "print(results[np.argmax(r_squared)])\n",
    "\n",
    "R2 = results[np.argmax(r_squared), 0]\n",
    "T  = results[np.argmax(r_squared), 3]\n",
    "e  = results[np.argmax(r_squared), 4] #these make good initial guesses\n",
    "w  = results[np.argmax(r_squared), 5]\n",
    "y  = results[np.argmax(r_squared), 6]\n",
    "K1 = results[np.argmax(r_squared), 1]\n",
    "K2 = results[np.argmax(r_squared), 2]\n",
    "\n",
    "plt.figure(figsize=(15,8))\n",
    "plt.plot(t, rv(K1, P, T, e, w, y, t))\n",
    "plt.plot(t, rv(K2, P, T, e, w, y, t), 'm')\n",
    "plt.plot(t, y*np.ones(t.size), 'k')\n",
    "plt.plot(phases(T, HJD)*P, DQTau1, 'k.')\n",
    "plt.plot(phases(T, HJD)*P, DQTau2, 'r.')\n",
    "#plt.plot(phases(T, HJD)*P, rv(K1, P, T, e, w, y, phases(T, HJD)*P), 'bo')\n",
    "#plt.plot(phases(T, HJD)*P, rv(K2, P, T, e, w, y, phases(T, HJD)*P), 'mo')\n",
    "plt.xlim(0,P)\n",
    "#plt.title('DQTau : R^2 = 0.882')\n",
    "#plt.savefig('DQTauRVs.png')"
   ]
  },
  {
   "cell_type": "code",
   "execution_count": null,
   "metadata": {
    "collapsed": true
   },
   "outputs": [],
   "source": [
    "def lnlike(theta, x, y, yerr):\n",
    "    m, b, lnf = theta\n",
    "    model = m * x + b\n",
    "    inv_sigma2 = 1.0/(yerr**2 + model**2*np.exp(2*lnf))\n",
    "    return -0.5*(np.sum((y-model)**2*inv_sigma2 - np.log(inv_sigma2)))"
   ]
  },
  {
   "cell_type": "code",
   "execution_count": 38,
   "metadata": {
    "collapsed": false
   },
   "outputs": [],
   "source": [
    "#must define probability function. before this can continue\n",
    "\n",
    "ndim, nwalkers = 6, 100\n",
    "pos = [np.array([K1, K2, T, e, w, y])+1e-4*np.random.randn(ndim) for i in range(nwalkers)]"
   ]
  },
  {
   "cell_type": "code",
   "execution_count": null,
   "metadata": {
    "collapsed": true
   },
   "outputs": [],
   "source": []
  }
 ],
 "metadata": {
  "kernelspec": {
   "display_name": "Python 3",
   "language": "python",
   "name": "python3"
  },
  "language_info": {
   "codemirror_mode": {
    "name": "ipython",
    "version": 3
   },
   "file_extension": ".py",
   "mimetype": "text/x-python",
   "name": "python",
   "nbconvert_exporter": "python",
   "pygments_lexer": "ipython3",
   "version": "3.5.1"
  }
 },
 "nbformat": 4,
 "nbformat_minor": 0
}
