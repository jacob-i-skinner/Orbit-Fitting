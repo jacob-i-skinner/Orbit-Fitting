{
 "cells": [
  {
   "cell_type": "code",
   "execution_count": null,
   "metadata": {
    "collapsed": true
   },
   "outputs": [],
   "source": [
    "import numpy as np\n",
    "from matplotlib import pyplot as plt\n",
    "%matplotlib inline\n",
    "\n",
    "def kernelDensityP(x, samples):\n",
    "    '''\n",
    "    Use Kernel Density Estimation to find the probability of a value\n",
    "    based on an already existing sampling of that distribution.\n",
    "\n",
    "    Parameters\n",
    "    ----------\n",
    "    x : float\n",
    "        Independent variable.\n",
    "\n",
    "    samples : iterable\n",
    "        Data points drawn from the unknown distribution. Their density\n",
    "        implies probability for a given x.\n",
    "    \n",
    "    Returns\n",
    "    -------\n",
    "    P(x) : float\n",
    "        The inferred probability of the value, x.\n",
    "\n",
    "    '''\n",
    "    #normalization constant, and width scaler\n",
    "    A = 1/(len(samples)*np.sqrt(6.283185307179586*(np.std(samples)/5)**2))\n",
    "    width = (2*(np.std(samples)/5)**2)\n",
    "    \n",
    "    return A * sum([2.718281828459045**(-((x-points)**2)/width) for points in samples])"
   ]
  },
  {
   "cell_type": "code",
   "execution_count": null,
   "metadata": {
    "collapsed": true
   },
   "outputs": [],
   "source": [
    "samples = np.transpose(np.loadtxt('Systems/3325.txt6 emcee samples.gz', delimiter=','))"
   ]
  },
  {
   "cell_type": "code",
   "execution_count": 31,
   "metadata": {
    "collapsed": false
   },
   "outputs": [],
   "source": [
    "foo = np.zeros((6,1500000))\n",
    "for i in range(6):\n",
    "    for j in range(1500000):\n",
    "        foo[i][j] = samples[i][j]\n",
    "samples = foo"
   ]
  },
  {
   "cell_type": "code",
   "execution_count": null,
   "metadata": {
    "collapsed": true
   },
   "outputs": [],
   "source": [
    "x0 = np.arange(20,60,0.01)\n",
    "x1 = np.arange(-1, 1,0.01)\n",
    "x2 = np.arange(0,2*np.pi,0.01)\n",
    "x3 = np.arange(2455927,2455935,0.01)\n",
    "x4 = np.arange(1,5,0.01)\n",
    "x5 = np.arange(67,85,0.01)\n",
    "\n",
    "p0 = [kernelDensityP(x, samples[0]) for x in x0]\n",
    "p1 = [kernelDensityP(x, samples[1]) for x in x1]\n",
    "p2 = [kernelDensityP(x, samples[2]) for x in x2]\n",
    "p3 = [kernelDensityP(x, samples[3]) for x in x3]\n",
    "p4 = [kernelDensityP(x, samples[4]) for x in x4]\n",
    "p5 = [kernelDensityP(x, samples[5]) for x in x5]"
   ]
  },
  {
   "cell_type": "code",
   "execution_count": null,
   "metadata": {
    "collapsed": false
   },
   "outputs": [],
   "source": [
    "f, ax = plt.subplots(6)\n",
    "\n",
    "for i in range(6):\n",
    "    ax[i].hist(samples[i], bins='auto', normed=1)\n",
    "\n",
    "ax[0].plot(x0, p0)\n",
    "ax[1].plot(x1, p1)\n",
    "ax[2].plot(x2, p2)\n",
    "ax[3].plot(x3, p3)\n",
    "ax[4].plot(x4, p4)\n",
    "ax[5].plot(x5, p5)\n",
    "\n",
    "f.set_figheight(20)\n",
    "f.set_figwidth(10)\n",
    "plt.show()"
   ]
  },
  {
   "cell_type": "code",
   "execution_count": null,
   "metadata": {
    "collapsed": true
   },
   "outputs": [],
   "source": [
    "from scipy.optimize import minimize\n",
    "minimize(-kernelDensityP(), np.percentile(samples[0], 50), args=samples[0])"
   ]
  }
 ],
 "metadata": {
  "kernelspec": {
   "display_name": "Python 3",
   "language": "python",
   "name": "python3"
  },
  "language_info": {
   "codemirror_mode": {
    "name": "ipython",
    "version": 3
   },
   "file_extension": ".py",
   "mimetype": "text/x-python",
   "name": "python",
   "nbconvert_exporter": "python",
   "pygments_lexer": "ipython3",
   "version": "3.6.0"
  }
 },
 "nbformat": 4,
 "nbformat_minor": 2
}
