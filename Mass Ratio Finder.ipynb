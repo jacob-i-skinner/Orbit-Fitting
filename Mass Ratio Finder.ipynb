{
 "cells": [
  {
   "cell_type": "code",
   "execution_count": 36,
   "metadata": {
    "collapsed": true
   },
   "outputs": [],
   "source": [
    "import numpy as np\n",
    "from matplotlib import pyplot as plt\n",
    "%matplotlib inline"
   ]
  },
  {
   "cell_type": "code",
   "execution_count": 47,
   "metadata": {
    "collapsed": false
   },
   "outputs": [
    {
     "name": "stdout",
     "output_type": "stream",
     "text": [
      "Primary to Secondary mass ratio = 1.54694311137\n"
     ]
    },
    {
     "data": {
      "image/png": "[encoded data removed]",
      "text/plain": [
       "<matplotlib.figure.Figure at 0x1116c2278>"
      ]
     },
     "metadata": {},
     "output_type": "display_data"
    }
   ],
   "source": [
    "system = np.genfromtxt('4205070.tbl', skip_header=1, usecols=(0, 1, 2))\n",
    "JD  =[datum[0] for datum in system if not np.isnan(datum[1]+datum[2])] #the logic check here ignores a visit if there\n",
    "RVp =[datum[1] for datum in system if not np.isnan(datum[1]+datum[2])] #are data for either star in the visit.\n",
    "RVs =[datum[2] for datum in system if not np.isnan(datum[1]+datum[2])]\n",
    "m,b = np.polyfit(RVp, RVs, 1)\n",
    "plt.plot(RVp, RVs, 'r.')\n",
    "plt.plot(np.linspace(-50,40, num=10), np.linspace(-50,40, num=10)*m+b)\n",
    "plt.savefig('2M17204248+4205070 Mass Ratio.png')\n",
    "print('Primary to Secondary mass ratio =', -m)"
   ]
  },
  {
   "cell_type": "code",
   "execution_count": null,
   "metadata": {
    "collapsed": true
   },
   "outputs": [],
   "source": []
  }
 ],
 "metadata": {
  "kernelspec": {
   "display_name": "Python 3",
   "language": "python",
   "name": "python3"
  },
  "language_info": {
   "codemirror_mode": {
    "name": "ipython",
    "version": 3
   },
   "file_extension": ".py",
   "mimetype": "text/x-python",
   "name": "python",
   "nbconvert_exporter": "python",
   "pygments_lexer": "ipython3",
   "version": "3.5.1"
  }
 },
 "nbformat": 4,
 "nbformat_minor": 0
}
