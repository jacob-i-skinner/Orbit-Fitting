{
 "cells": [
  {
   "cell_type": "markdown",
   "metadata": {},
   "source": [
    "# Mass Estimation by Orbital Elements"
   ]
  },
  {
   "cell_type": "markdown",
   "metadata": {},
   "source": [
    "Here I present my method of determining an estimate of the lower bounding mass for the primary component of a binary star using mass ratio ($q$), velocity semi-amplitude ($K$), orbital eccentricity ($e$), and orbital period ($P$)."
   ]
  },
  {
   "cell_type": "markdown",
   "metadata": {},
   "source": [
    "Newton's formulation of Kepler's $3^{rd}$ law is\n",
    "\n",
    "$$ P^2 = (2\\pi)^2  \\frac{a^3}{G(M_1+M_2)}$$\n",
    "\n",
    "let $M_2 = qM_1$ where $M_1$ is the primary mass and $M_2$ is the secondary.\n",
    "\n",
    "$$ P^2 = (2\\pi)^2  \\frac{a^3}{G(M_1+qM_1)}$$\n",
    "\n",
    "factor out the common $M_1$ term\n",
    "\n",
    "$$     = (2\\pi)^2  \\frac{a^3}{GM_1(1+q)}$$"
   ]
  },
  {
   "cell_type": "markdown",
   "metadata": {},
   "source": [
    "To find $a$ in terms of quantities measurable for an SB2, we use the relationship to orbital speed, v_o\n",
    "\n",
    "$$ v_o = \\frac{2\\pi a}{T}\\left[1-\\frac{1}{4}e^2-\\frac{3}{64}e^4 -\\frac{5}{256}e^6 -\\frac{175}{16384}e^8 - \\dots \\right] $$\n",
    "\n",
    "Truncated to the $3^{rd}$ term.\n",
    "\n",
    "$$v_o = \\frac{2\\pi a}{P}\\left[1-\\frac{1}{4}e^2-\\frac{3}{64}e^4 \\right]$$"
   ]
  },
  {
   "cell_type": "markdown",
   "metadata": {},
   "source": [
    "let $v_o = K$ (This is the iffy part. It's accurate for circular systems, but is decreasingly accurate for more eccentric systems)\n",
    "\n",
    "$$K = \\frac{2\\pi a}{P}\\left[1-\\frac{1}{4}e^2-\\frac{3}{64}e^4 \\right]$$\n",
    "\n",
    "and solve for a\n",
    "\n",
    "$$ a = \\frac{KP}{2 \\pi \\left[1-\\frac{1}{4}e^2-\\frac{3}{64}e^4 \\right]} $$"
   ]
  },
  {
   "cell_type": "markdown",
   "metadata": {},
   "source": [
    "Substituting this back into the equation for P gives\n",
    "\n",
    "$$  P^2 = (2\\pi)^2  \\frac{(KP)^3}{(2\\pi)^3 GM_1(1+q)\\left[1-\\frac{1}{4}e^2-\\frac{3}{64}e^4 \\right]^3}$$"
   ]
  },
  {
   "cell_type": "markdown",
   "metadata": {},
   "source": [
    "Some terms cancel giving\n",
    "\n",
    "\n",
    "$$  1 = \\frac{K^3P}{2\\pi GM_1(1+q)\\left[1-\\frac{1}{4}e^2-\\frac{3}{64}e^4 \\right]^3}$$"
   ]
  },
  {
   "cell_type": "markdown",
   "metadata": {},
   "source": [
    "Finally\n",
    "\n",
    "$$  M_1 = \\frac{K^3P}{2\\pi G(1+q)\\left[1-\\frac{1}{4}e^2-\\frac{3}{64}e^4 \\right]^3}$$"
   ]
  },
  {
   "cell_type": "markdown",
   "metadata": {},
   "source": [
    "This is a lower bound estimate becuase I've left off the $\\sin{i}$ term (the assumption is edge on orientation, i.e. orbital speed is no faster than observed)."
   ]
  }
 ],
 "metadata": {
  "kernelspec": {
   "display_name": "Python 3",
   "language": "python",
   "name": "python3"
  },
  "language_info": {
   "codemirror_mode": {
    "name": "ipython",
    "version": 3
   },
   "file_extension": ".py",
   "mimetype": "text/x-python",
   "name": "python",
   "nbconvert_exporter": "python",
   "pygments_lexer": "ipython3",
   "version": "3.6.0"
  }
 },
 "nbformat": 4,
 "nbformat_minor": 2
}
