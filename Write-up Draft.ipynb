{
 "cells": [
  {
   "cell_type": "markdown",
   "metadata": {},
   "source": [
    "observations while truncating data list.\n",
    "\n",
    "At 24 data points, the DQ Tau fit loses accuracy on the e fit. Semi-amplitude and eccentricity appear to have covariance at the high end, So as e loses accuracy and trends upwards, K does as well. The fit of T steadily loses precision as the list shrinks, and it completely loses accuracy at fewer than 12 points. $\\omega$, P, and $\\gamma$ remain relatively well determined until fewer than 5 points."
   ]
  },
  {
   "cell_type": "code",
   "execution_count": null,
   "metadata": {
    "collapsed": true
   },
   "outputs": [],
   "source": []
  }
 ],
 "metadata": {
  "kernelspec": {
   "display_name": "Python 3",
   "language": "python",
   "name": "python3"
  },
  "language_info": {
   "codemirror_mode": {
    "name": "ipython",
    "version": 3
   },
   "file_extension": ".py",
   "mimetype": "text/x-python",
   "name": "python",
   "nbconvert_exporter": "python",
   "pygments_lexer": "ipython3",
   "version": "3.5.1"
  }
 },
 "nbformat": 4,
 "nbformat_minor": 0
}
