{
 "cells": [
  {
   "cell_type": "code",
   "execution_count": 1,
   "metadata": {
    "collapsed": false
   },
   "outputs": [
    {
     "name": "stdout",
     "output_type": "stream",
     "text": [
      "import time was  499  seconds.\n"
     ]
    }
   ],
   "source": [
    "import numpy as np, functions as f, time\n",
    "from scipy.optimize import minimize\n",
    "from scipy.stats import gaussian_kde as kde\n",
    "from matplotlib import pyplot as plt\n",
    "%matplotlib inline\n",
    "\n",
    "start = time.time()\n",
    "\n",
    "samples = np.transpose(np.loadtxt('Systems/3325.txt6 emcee samples.gz', delimiter=','))\n",
    "#samples = np.append(np.random.normal(0, scale=1, size=100000), np.random.normal(3, scale=1, size=50000))\n",
    "\n",
    "end = time.time()\n",
    "elapsed = end-start\n",
    "print('import time was ', int(elapsed), ' seconds.')"
   ]
  },
  {
   "cell_type": "code",
   "execution_count": 10,
   "metadata": {
    "collapsed": false
   },
   "outputs": [
    {
     "name": "stdout",
     "output_type": "stream",
     "text": [
      "KDE time was  0  seconds.\n"
     ]
    }
   ],
   "source": [
    "start = time.time()\n",
    "\n",
    "pDensity = [kde(samples[0]).pdf, kde(samples[1]).pdf, kde(samples[2]).pdf,\n",
    "           kde(samples[3]).pdf, kde(samples[4]).pdf, kde(samples[5]).pdf]\n",
    "\n",
    "def pDensity0(x):\n",
    "    return -kde(samples[0]).pdf(x)\n",
    "\n",
    "def pDensity1(x):\n",
    "    return -kde(samples[1]).pdf(x)\n",
    "\n",
    "def pDensity2(x):\n",
    "    return -kde(samples[2]).pdf(x)\n",
    "\n",
    "def pDensity3(x):\n",
    "    return -kde(samples[3]).pdf(x)\n",
    "\n",
    "def pDensity4(x):\n",
    "    return -kde(samples[4]).pdf(x)\n",
    "\n",
    "def pDensity5(x):\n",
    "    return -kde(samples[5]).pdf(x)\n",
    "\n",
    "pdfs = [pDensity0, pDensity1, pDensity2, pDensity3, pDensity4, pDensity5]\n",
    " \n",
    "end = time.time()\n",
    "elapsed = end-start\n",
    "print('KDE time was ', int(elapsed), ' seconds.')"
   ]
  },
  {
   "cell_type": "code",
   "execution_count": 17,
   "metadata": {
    "collapsed": false
   },
   "outputs": [
    {
     "name": "stdout",
     "output_type": "stream",
     "text": [
      "maximization time was  108  seconds.\n"
     ]
    }
   ],
   "source": [
    "start = time.time()\n",
    "\n",
    "minm = [0, 0, 0, 0, 0, 0]\n",
    "#fig, ax = plt.subplots(6)\n",
    "\n",
    "for i in range(6):\n",
    "    ax[i].hist(samples[i], bins='auto', normed=1)\n",
    "    minm[i] = minimize(pdfs[i], np.percentile(samples[i], 50))\n",
    "    ax[i].plot(np.ones(2)*minm[i].x, np.linspace(0,0.5,num=2))\n",
    "\n",
    "fig.set_figheight(20)\n",
    "fig.set_figwidth(10)\n",
    "plt.show()\n",
    "\n",
    "end = time.time()\n",
    "elapsed = end-start\n",
    "print('maximization time was ', int(elapsed), ' seconds.')"
   ]
  },
  {
   "cell_type": "code",
   "execution_count": 19,
   "metadata": {
    "collapsed": false
   },
   "outputs": [
    {
     "data": {
      "text/plain": [
       "6"
      ]
     },
     "execution_count": 19,
     "metadata": {},
     "output_type": "execute_result"
    }
   ],
   "source": [
    "samples.shape[0]"
   ]
  },
  {
   "cell_type": "code",
   "execution_count": null,
   "metadata": {
    "collapsed": true
   },
   "outputs": [],
   "source": []
  }
 ],
 "metadata": {
  "kernelspec": {
   "display_name": "Python 3",
   "language": "python",
   "name": "python3"
  },
  "language_info": {
   "codemirror_mode": {
    "name": "ipython",
    "version": 3
   },
   "file_extension": ".py",
   "mimetype": "text/x-python",
   "name": "python",
   "nbconvert_exporter": "python",
   "pygments_lexer": "ipython3",
   "version": "3.6.0"
  }
 },
 "nbformat": 4,
 "nbformat_minor": 2
}
